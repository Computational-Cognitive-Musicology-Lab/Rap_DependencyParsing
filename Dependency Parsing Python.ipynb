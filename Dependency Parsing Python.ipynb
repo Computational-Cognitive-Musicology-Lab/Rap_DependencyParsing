{
 "cells": [
  {
   "cell_type": "markdown",
   "id": "b2d13260",
   "metadata": {},
   "source": [
    "## Follow Steps found in \n",
    " - https://towardsdatascience.com/natural-language-processing-dependency-parsing-cf094bbbe3f7\n",
    " ### A list of NLP libraries that can be used \n",
    " - https://medium.com/@soffosdotai/top-7-python-nlp-libraries-and-their-applications-in-2023-bd0c4395851b\n",
    " "
   ]
  },
  {
   "cell_type": "markdown",
   "id": "61e073b4",
   "metadata": {},
   "source": [
    "## Genius access token \n",
    "client ID: YNiczFFSCq1ZrNpdWaasGqGPG03cxe8drkbwv5b41MA-TXZiZqQehT_NjpyUGRMu\n",
    "client secret: 1UzBNab_mGL4ICeMdMj32EiwfmPtGsZDYMBckFKT-irCdFIJUVf01kKhsgLptuT_jpcAdbi4A1OlzI_sLvaLxQ\n",
    "client access token: AcU_KX10e5nyufSsdSw9vwAf12Vox91khaxz0BH-5oIP9G6pu_RoyS4ojUUocy8V"
   ]
  },
  {
   "cell_type": "markdown",
   "id": "f3639f8c",
   "metadata": {},
   "source": [
    "### Things to do\n",
    "- a function to Isolate the lyrics into sentence fragmetns \n",
    "- a function to create your own tokens (maybe help with the lap lyric contextualization)\n",
    "- a function that runs the nlp pipeline, either your own token or a built in one\n",
    "- Figure out the data structure for the output and how that can help in sending the output for humdrum, maybe just a json can be helpful in the same way we make the table? read up on that \n",
    "- Convert to a humdrum stem"
   ]
  },
  {
   "cell_type": "code",
   "execution_count": null,
   "id": "dfec3a1d",
   "metadata": {},
   "outputs": [],
   "source": []
  },
  {
   "cell_type": "code",
   "execution_count": 14,
   "id": "d8357a1f",
   "metadata": {},
   "outputs": [
    {
     "name": "stdout",
     "output_type": "stream",
     "text": [
      "Searching for songs by Eminem...\n",
      "\n",
      "Done. Found 0 songs.\n",
      "Searching for \"Not Afraid\" by Eminem...\n",
      "Done.\n",
      "358 ContributorsTranslationsPortuguêsItalianoΕλληνικάFrançaisNot Afraid Lyrics[Chorus]\n",
      "I'm not afraid (I'm not afraid)\n",
      "Yeah\n",
      "To take a stand (To take a stand)\n",
      "It's been a ride\n",
      "Everybody (Everybody)\n",
      "I guess I had to\n",
      "Come take my hand (Come take my hand)\n",
      "Go to that place to get to this one\n",
      "We'll walk this road together, through the storm\n",
      "Now some of you\n",
      "Whatever weather, cold or warm\n",
      "Might still be in that place\n",
      "Just lettin' you know that you're not alone\n",
      "If you're tryna get out\n",
      "Holla if you feel like you've been down the same road\n",
      "Just follow me, I'll get you there\n",
      "\n",
      "[Verse 1]\n",
      "You can try and read my lyrics off of this paper before I lay 'em\n",
      "But you won't take the sting out these words before I say 'em\n",
      "'Cause ain't no way I'ma let you stop me from causin' mayhem\n",
      "When I say I'ma do somethin', I do it, I don't give a damn what you think\n",
      "I'm doin' this for me, so fuck the world\n",
      "Feed it beans, it's gassed up if it thinks it's stoppin' me\n",
      "I'ma be what I set out to be, without a doubt, undoubtedly\n",
      "And all those who look down on me, I'm tearin' down your balcony\n",
      "No ifs, ands or buts, don't try to ask him why or how can he\n",
      "From Infinite down to the last Relapse album he's\n",
      "Still shittin' whether he's on salary, paid hourly\n",
      "Until he bows out or he shits his bowels out of him\n",
      "Whichever comes first, for better or worse\n",
      "He's married to the game\n",
      "Like a \"fuck you\" for Christmas, his gift is a curse\n",
      "Forget the Earth, he's got the urge to pull his dick from the dirt\n",
      "And fuck the whole universe\n",
      "You might also like[Chorus]\n",
      "I'm not afraid (I'm not afraid)\n",
      "To take a stand (To take a stand)\n",
      "Everybody (Everybody)\n",
      "Come take my hand (Come take my hand)\n",
      "We'll walk this road together, through the storm\n",
      "Whatever weather, cold or warm\n",
      "Just lettin' you know that you're not alone\n",
      "Holla if you feel like you've been down the same road\n",
      "\n",
      "[Verse 2]\n",
      "Okay, quit playin' with the scissors and shit, and cut the crap\n",
      "I shouldn't have to rhyme these words in a rhythm for you to know it's a wrap\n",
      "You said you was king, you lied through your teeth\n",
      "For that, fuck your feelings\n",
      "Instead of gettin' crowned, you're gettin' capped\n",
      "And to the fans, I'll never let you down again, I'm back\n",
      "I promise to never go back on that promise\n",
      "In fact, let's be honest, that last Relapse CD was \"ehh\"\n",
      "Perhaps I ran them accents into the ground\n",
      "Relax, I ain't goin' back to that now\n",
      "All I'm tryna say is get back, click-clack-blaow!\n",
      "'Cause I ain't playin' around\n",
      "There's a game called circle and I don't know how\n",
      "I'm way too up to back down\n",
      "But I think I'm still tryna figure this crap out\n",
      "Thought I had it mapped out\n",
      "But I guess I didn't, this fuckin' black cloud still follows me around\n",
      "But it's time to exorcise these demons\n",
      "These ma'fuckers are doin' jumpin' jacks now\n",
      "[Chorus]\n",
      "I'm not afraid (I'm not afraid)\n",
      "To take a stand (To take a stand)\n",
      "Everybody (Everybody)\n",
      "Come take my hand (Come take my hand)\n",
      "We'll walk this road together, through the storm\n",
      "Whatever weather, cold or warm\n",
      "Just lettin' you know that you're not alone\n",
      "Holla if you feel like you've been down the same road\n",
      "\n",
      "[Bridge]\n",
      "And I just can't keep livin' this way\n",
      "So startin' today\n",
      "I'm breakin' out of this cage\n",
      "I'm standin' up, I'ma face my demons\n",
      "I'm mannin' up, I'ma hold my ground\n",
      "I've had enough, now I'm so fed up\n",
      "Time to put my life back together right now\n",
      "\n",
      "[Verse 3]\n",
      "It was my decision to get clean, I did it for me\n",
      "Admittedly I probably did it subliminally for you\n",
      "So I could come back a brand-new me\n",
      "You helped see me through\n",
      "And don't even realize what you did, 'cause believe me you\n",
      "I've been through the wringer\n",
      "But they can do little to the middle finger\n",
      "I think I got a tear in my eye, I feel like the king of\n",
      "My world, haters can make like bees with no stingers\n",
      "And drop dead: no more beef lingers\n",
      "No more drama from now on, I promise\n",
      "To focus solely on handlin' my responsibilities as a father\n",
      "So I solemnly swear to always treat this roof like my daughters and raise it\n",
      "You couldn't lift a single shingle on it\n",
      "'Cause the way I feel, I'm strong enough to go to the club\n",
      "Or the corner pub and lift the whole liquor counter up\n",
      "'Cause I'm raisin' the bar\n",
      "I'd shoot for the moon, but I'm too busy gazin' at stars\n",
      "I feel amazin', and I'm—\n",
      "[Chorus]\n",
      "I'm not afraid (I'm not afraid)\n",
      "To take a stand (To take a stand)\n",
      "Everybody (Everybody)\n",
      "Come take my hand (Come take my hand)\n",
      "We'll walk this road together, through the storm\n",
      "Whatever weather, cold or warm\n",
      "Just lettin' you know that you're not alone\n",
      "Holla if you feel like you've been down the same road431Embed\n"
     ]
    }
   ],
   "source": [
    "import lyricsgenius\n",
    "from lyricsgenius import Genius\n",
    "token = 'AcU_KX10e5nyufSsdSw9vwAf12Vox91khaxz0BH-5oIP9G6pu_RoyS4ojUUocy8V'\n",
    "genius = Genius(token)\n",
    "genius.response_format = 'plain,html'\n",
    "artist = genius.search_artist(\"Eminem\", max_songs=0, sort=\"title\")\n",
    "song = genius.search_song(\"Not Afraid\", artist.name)\n",
    "\n",
    "\n",
    "print(song.lyrics)"
   ]
  },
  {
   "cell_type": "code",
   "execution_count": 5,
   "id": "25b911ca",
   "metadata": {},
   "outputs": [
    {
     "name": "stdout",
     "output_type": "stream",
     "text": [
      "Collecting lyricsgenius\n",
      "  Downloading lyricsgenius-3.0.1-py3-none-any.whl (59 kB)\n",
      "\u001b[2K     \u001b[90m━━━━━━━━━━━━━━━━━━━━━━━━━━━━━━━━━━━━━━━\u001b[0m \u001b[32m59.4/59.4 kB\u001b[0m \u001b[31m530.8 kB/s\u001b[0m eta \u001b[36m0:00:00\u001b[0ma \u001b[36m0:00:01\u001b[0m\n",
      "\u001b[?25hRequirement already satisfied: beautifulsoup4>=4.6.0 in /opt/anaconda3/lib/python3.9/site-packages (from lyricsgenius) (4.10.0)\n",
      "Requirement already satisfied: requests>=2.20.0 in /opt/anaconda3/lib/python3.9/site-packages (from lyricsgenius) (2.26.0)\n",
      "Requirement already satisfied: soupsieve>1.2 in /opt/anaconda3/lib/python3.9/site-packages (from beautifulsoup4>=4.6.0->lyricsgenius) (2.2.1)\n",
      "Requirement already satisfied: charset-normalizer~=2.0.0 in /opt/anaconda3/lib/python3.9/site-packages (from requests>=2.20.0->lyricsgenius) (2.0.4)\n",
      "Requirement already satisfied: idna<4,>=2.5 in /opt/anaconda3/lib/python3.9/site-packages (from requests>=2.20.0->lyricsgenius) (3.2)\n",
      "Requirement already satisfied: certifi>=2017.4.17 in /opt/anaconda3/lib/python3.9/site-packages (from requests>=2.20.0->lyricsgenius) (2022.12.7)\n",
      "Requirement already satisfied: urllib3<1.27,>=1.21.1 in /opt/anaconda3/lib/python3.9/site-packages (from requests>=2.20.0->lyricsgenius) (1.26.7)\n",
      "Installing collected packages: lyricsgenius\n",
      "Successfully installed lyricsgenius-3.0.1\n",
      "\n",
      "\u001b[1m[\u001b[0m\u001b[34;49mnotice\u001b[0m\u001b[1;39;49m]\u001b[0m\u001b[39;49m A new release of pip is available: \u001b[0m\u001b[31;49m23.0.1\u001b[0m\u001b[39;49m -> \u001b[0m\u001b[32;49m23.3.2\u001b[0m\n",
      "\u001b[1m[\u001b[0m\u001b[34;49mnotice\u001b[0m\u001b[1;39;49m]\u001b[0m\u001b[39;49m To update, run: \u001b[0m\u001b[32;49mpip install --upgrade pip\u001b[0m\n"
     ]
    }
   ],
   "source": [
    "!pip install lyricsgenius"
   ]
  },
  {
   "cell_type": "markdown",
   "id": "9fccb0a8",
   "metadata": {},
   "source": [
    "## Using custom tokenization can help!"
   ]
  },
  {
   "cell_type": "code",
   "execution_count": 12,
   "id": "bbbd38db",
   "metadata": {},
   "outputs": [
    {
     "name": "stdout",
     "output_type": "stream",
     "text": [
      "Token           | Relation   | Head            \n"
     ]
    }
   ],
   "source": [
    "print (\"{:<15} | {:<10} | {:<15} \".format('Token', 'Relation', 'Head'))"
   ]
  },
  {
   "cell_type": "code",
   "execution_count": null,
   "id": "509b28d2",
   "metadata": {},
   "outputs": [],
   "source": []
  },
  {
   "cell_type": "code",
   "execution_count": 1,
   "id": "93b4dca6",
   "metadata": {},
   "outputs": [
    {
     "data": {
      "application/vnd.jupyter.widget-view+json": {
       "model_id": "bd0c80ddf20a4c88895b3bf6c84338cc",
       "version_major": 2,
       "version_minor": 0
      },
      "text/plain": [
       "Downloading https://raw.githubusercontent.com/stanfordnlp/stanza-resources/main/resources_1.7.0.json:   0%|   …"
      ]
     },
     "metadata": {},
     "output_type": "display_data"
    },
    {
     "name": "stderr",
     "output_type": "stream",
     "text": [
      "2024-01-23 22:50:18 INFO: Downloading default packages for language: en (English) ...\n",
      "2024-01-23 22:50:19 INFO: File exists: /Users/noelalben/stanza_resources/en/default.zip\n",
      "2024-01-23 22:50:22 INFO: Finished downloading models and saved to /Users/noelalben/stanza_resources.\n",
      "2024-01-23 22:50:22 INFO: Checking for updates to resources.json in case models have been updated.  Note: this behavior can be turned off with download_method=None or download_method=DownloadMethod.REUSE_RESOURCES\n"
     ]
    },
    {
     "data": {
      "application/vnd.jupyter.widget-view+json": {
       "model_id": "6450b3256a514b1aad71f4e7ee024be8",
       "version_major": 2,
       "version_minor": 0
      },
      "text/plain": [
       "Downloading https://raw.githubusercontent.com/stanfordnlp/stanza-resources/main/resources_1.7.0.json:   0%|   …"
      ]
     },
     "metadata": {},
     "output_type": "display_data"
    },
    {
     "name": "stderr",
     "output_type": "stream",
     "text": [
      "2024-01-23 22:50:23 INFO: Loading these models for language: en (English):\n",
      "=================================\n",
      "| Processor | Package           |\n",
      "---------------------------------\n",
      "| tokenize  | combined          |\n",
      "| mwt       | combined          |\n",
      "| pos       | combined_charlm   |\n",
      "| lemma     | combined_nocharlm |\n",
      "| depparse  | combined_charlm   |\n",
      "=================================\n",
      "\n",
      "2024-01-23 22:50:23 INFO: Using device: cpu\n",
      "2024-01-23 22:50:23 INFO: Loading: tokenize\n",
      "2024-01-23 22:50:23 INFO: Loading: mwt\n",
      "2024-01-23 22:50:23 INFO: Loading: pos\n",
      "2024-01-23 22:50:24 INFO: Loading: lemma\n",
      "2024-01-23 22:50:24 INFO: Loading: depparse\n",
      "2024-01-23 22:50:24 INFO: Done loading processors!\n"
     ]
    },
    {
     "name": "stdout",
     "output_type": "stream",
     "text": [
      "('Deemed', 2, 'amod')\n",
      "('universities', 3, 'nsubj')\n",
      "('charge', 0, 'root')\n",
      "('huge', 5, 'amod')\n",
      "('fees', 3, 'obj')\n",
      "Token           | Relation   | Head            \n",
      "--------------------------------------------------\n",
      "Deemed          | amod       | universities    \n",
      "universities    | nsubj      | charge          \n",
      "charge          | root       | ROOT            \n",
      "huge            | amod       | fees            \n",
      "fees            | obj        | charge          \n"
     ]
    }
   ],
   "source": [
    "import stanza\n",
    "\n",
    "# Download the language model\n",
    "stanza.download('en')\n",
    "\n",
    "sentence = 'Deemed universities charge huge fees'\n",
    "\n",
    "# Build a Neural Pipeline\n",
    "nlp = stanza.Pipeline('en', processors = \"tokenize,mwt,pos,lemma,depparse\") \n",
    "\n",
    "# Pass the sentence through the pipeline\n",
    "doc = nlp(sentence)\n",
    "\n",
    "# Print the dependencies of the first sentence in the doc object\n",
    "# Format - (Token, Index of head, Nature of dependency)\n",
    "# Index starts from 1, 0 is reserved for ROOT\n",
    "doc.sentences[0].print_dependencies()\n",
    "\n",
    "\n",
    "print (\"{:<15} | {:<10} | {:<15} \".format('Token', 'Relation', 'Head'))\n",
    "print (\"-\" * 50)\n",
    "  \n",
    "# Convert sentence object to dictionary  \n",
    "sent_dict = doc.sentences[0].to_dict()\n",
    "\n",
    "# iterate to print the token, relation and head\n",
    "for word in sent_dict:\n",
    "  print (\"{:<15} | {:<10} | {:<15} \"\n",
    "         .format(str(word['text']),str(word['deprel']), str(sent_dict[word['head']-1]['text'] if word['head'] > 0 else 'ROOT')))"
   ]
  },
  {
   "cell_type": "code",
   "execution_count": null,
   "id": "a6343602",
   "metadata": {},
   "outputs": [],
   "source": []
  },
  {
   "cell_type": "code",
   "execution_count": 1,
   "id": "c6d08a42",
   "metadata": {},
   "outputs": [],
   "source": [
    "from nltk.parse.stanford import StanfordDependencyParser\n",
    "import nltk\n",
    "import networkx as nx\n",
    "import matplotlib.pyplot as plt"
   ]
  },
  {
   "cell_type": "code",
   "execution_count": 2,
   "id": "eabfe6d5",
   "metadata": {},
   "outputs": [],
   "source": [
    "models_jar_path = '/Users/noelalben/github/RapDependency/stanford-corenlp-4.2.2-models-english.jar'\n",
    "jar_path = '/Users/noelalben/github/RapDependency/stanford-corenlp-4.2.2/stanford-corenlp-4.2.2-models.jar'"
   ]
  },
  {
   "cell_type": "code",
   "execution_count": 3,
   "id": "1e0431c0",
   "metadata": {},
   "outputs": [],
   "source": [
    "sentence = \"You can't deny that when a girl walks in you get excited\""
   ]
  },
  {
   "cell_type": "code",
   "execution_count": 4,
   "id": "48c1c72b",
   "metadata": {},
   "outputs": [],
   "source": [
    "def Parsing(sentence, jar_path,path_to_models_jar):\n",
    "    parser = StanfordDependencyParser(path_to_jar = jar_path, path_to_models_jar = models_jar_path)\n",
    "    result = parser.raw_parse(sentence)\n",
    "    dependency = result.__next__()\n",
    "    print (\"{:<15} | {:<10} | {:<10} | {:<15} | {:<10}\".format('Head', 'Head POS','Relation','Dependent', 'Dependent POS'))\n",
    "    print (\"-\" * 75)\n",
    "    for dep in list(dependency.triples()):\n",
    "          print (\"{:<15} | {:<10} | {:<10} | {:<15} | {:<10}\"\n",
    "         .format(str(dep[0][0]),str(dep[0][1]), str(dep[1]), str(dep[2][0]),str(dep[2][1])))\n",
    "    "
   ]
  },
  {
   "cell_type": "code",
   "execution_count": 5,
   "id": "ff172fc2",
   "metadata": {},
   "outputs": [
    {
     "name": "stderr",
     "output_type": "stream",
     "text": [
      "/var/folders/td/wr0v_l5j16bgp1cvydp7pmqc0000gn/T/ipykernel_42777/2588957925.py:2: DeprecationWarning: The StanfordDependencyParser will be deprecated\n",
      "Please use \u001b[91mnltk.parse.corenlp.CoreNLPDependencyParser\u001b[0m instead.\n",
      "  parser = StanfordDependencyParser(path_to_jar = jar_path, path_to_models_jar = models_jar_path)\n"
     ]
    },
    {
     "name": "stdout",
     "output_type": "stream",
     "text": [
      "Head            | Head POS   | Relation   | Dependent       | Dependent POS\n",
      "---------------------------------------------------------------------------\n",
      "deny            | VB         | nsubj      | You             | PRP       \n",
      "deny            | VB         | aux        | ca              | MD        \n",
      "deny            | VB         | advmod     | n't             | RB        \n",
      "deny            | VB         | obj        | that            | DT        \n",
      "deny            | VB         | advcl      | walks           | VBZ       \n",
      "walks           | VBZ        | advmod     | when            | WRB       \n",
      "walks           | VBZ        | nsubj      | girl            | NN        \n",
      "girl            | NN         | det        | a               | DT        \n",
      "walks           | VBZ        | obl        | you             | PRP       \n",
      "you             | PRP        | case       | in              | IN        \n",
      "deny            | VB         | dep        | excited         | JJ        \n",
      "excited         | JJ         | dep        | get             | VB        \n"
     ]
    }
   ],
   "source": [
    "Parsing(sentence, jar_path,models_jar_path)"
   ]
  },
  {
   "cell_type": "code",
   "execution_count": 6,
   "id": "a4213c6a",
   "metadata": {},
   "outputs": [],
   "source": [
    "def networkX(sentence, jar_path,path_to_models_jar):\n",
    "    parser = StanfordDependencyParser(path_to_jar = jar_path, path_to_models_jar = models_jar_path)\n",
    "    result = parser.raw_parse(sentence)\n",
    "    dependency = result.__next__()\n",
    "    G = dependency.nx_graph().reverse()\n",
    "    words = sentence.split(\" \")\n",
    "    labels = {index + 1: words[index] for index in range(len(words))}\n",
    "    nx.draw(G, with_labels=True, labels=labels, node_size=2500, node_color='#B5EAD7', font_size=10)\n",
    "    "
   ]
  },
  {
   "cell_type": "code",
   "execution_count": 7,
   "id": "83076a86",
   "metadata": {},
   "outputs": [
    {
     "name": "stderr",
     "output_type": "stream",
     "text": [
      "/var/folders/td/wr0v_l5j16bgp1cvydp7pmqc0000gn/T/ipykernel_42777/3941199874.py:2: DeprecationWarning: The StanfordDependencyParser will be deprecated\n",
      "Please use \u001b[91mnltk.parse.corenlp.CoreNLPDependencyParser\u001b[0m instead.\n",
      "  parser = StanfordDependencyParser(path_to_jar = jar_path, path_to_models_jar = models_jar_path)\n"
     ]
    },
    {
     "data": {
      "image/png": "[encoded data removed]",
      "text/plain": [
       "<Figure size 432x288 with 1 Axes>"
      ]
     },
     "metadata": {},
     "output_type": "display_data"
    }
   ],
   "source": [
    "networkX(sentence, jar_path,models_jar_path)"
   ]
  },
  {
   "cell_type": "code",
   "execution_count": 27,
   "id": "626e639e",
   "metadata": {},
   "outputs": [],
   "source": [
    "G = dependency.nx_graph().reverse()"
   ]
  },
  {
   "cell_type": "code",
   "execution_count": 28,
   "id": "d4f6caf8",
   "metadata": {},
   "outputs": [],
   "source": [
    "words = sentence.split(\" \")\n",
    "labels = {index + 1: words[index] for index in range(len(words))}"
   ]
  },
  {
   "cell_type": "code",
   "execution_count": 29,
   "id": "0651573e",
   "metadata": {},
   "outputs": [
    {
     "data": {
      "image/png": "[encoded data removed]",
      "text/plain": [
       "<Figure size 432x288 with 1 Axes>"
      ]
     },
     "metadata": {},
     "output_type": "display_data"
    }
   ],
   "source": [
    "nx.draw(G, with_labels=True, labels=labels, node_size=2500, node_color='#B5EAD7', font_size=10)"
   ]
  },
  {
   "cell_type": "code",
   "execution_count": 30,
   "id": "a94735ed",
   "metadata": {},
   "outputs": [
    {
     "name": "stdout",
     "output_type": "stream",
     "text": [
      "Collecting graphviz\n",
      "  Downloading graphviz-0.19.1-py3-none-any.whl (46 kB)\n",
      "\u001b[2K     \u001b[90m━━━━━━━━━━━━━━━━━━━━━━━━━━━━━━━━━━━━━━━━\u001b[0m \u001b[32m46.3/46.3 KB\u001b[0m \u001b[31m1.3 MB/s\u001b[0m eta \u001b[36m0:00:00\u001b[0m\n",
      "\u001b[?25hInstalling collected packages: graphviz\n",
      "Successfully installed graphviz-0.19.1\n"
     ]
    }
   ],
   "source": [
    "!pip install graphviz"
   ]
  },
  {
   "cell_type": "code",
   "execution_count": 32,
   "id": "b1c7a4f9",
   "metadata": {},
   "outputs": [
    {
     "ename": "TypeError",
     "evalue": "'<' not supported between instances of 'NoneType' and 'int'",
     "output_type": "error",
     "traceback": [
      "\u001b[0;31m---------------------------------------------------------------------------\u001b[0m",
      "\u001b[0;31mTypeError\u001b[0m                                 Traceback (most recent call last)",
      "\u001b[0;32m/var/folders/td/wr0v_l5j16bgp1cvydp7pmqc0000gn/T/ipykernel_84455/314958759.py\u001b[0m in \u001b[0;36m<module>\u001b[0;34m\u001b[0m\n\u001b[1;32m      1\u001b[0m \u001b[0;32mfrom\u001b[0m \u001b[0mgraphviz\u001b[0m \u001b[0;32mimport\u001b[0m \u001b[0mSource\u001b[0m\u001b[0;34m\u001b[0m\u001b[0;34m\u001b[0m\u001b[0m\n\u001b[0;32m----> 2\u001b[0;31m \u001b[0mdot_def\u001b[0m \u001b[0;34m=\u001b[0m \u001b[0mdependency\u001b[0m\u001b[0;34m.\u001b[0m\u001b[0mto_dot\u001b[0m\u001b[0;34m(\u001b[0m\u001b[0;34m)\u001b[0m\u001b[0;34m\u001b[0m\u001b[0;34m\u001b[0m\u001b[0m\n\u001b[0m\u001b[1;32m      3\u001b[0m '''\n\u001b[1;32m      4\u001b[0m \u001b[0mThe\u001b[0m \u001b[0mbelow\u001b[0m \u001b[0mlines\u001b[0m \u001b[0mrequire\u001b[0m \u001b[0mgraphviz\u001b[0m \u001b[0mexecutables\u001b[0m \u001b[0mto\u001b[0m \u001b[0mbe\u001b[0m \u001b[0minstalled\u001b[0m \u001b[0mto\u001b[0m \u001b[0myour\u001b[0m \u001b[0msystem\u001b[0m\u001b[0;34m.\u001b[0m \u001b[0mIf\u001b[0m \u001b[0mthat\u001b[0m \u001b[0mdoes\u001b[0m \u001b[0;32mnot\u001b[0m \u001b[0mwork\u001b[0m\u001b[0;34m,\u001b[0m \u001b[0mprint\u001b[0m \u001b[0mthe\u001b[0m \u001b[0mdot_def\u001b[0m \u001b[0mobject\u001b[0m \u001b[0;32mand\u001b[0m \u001b[0mpaste\u001b[0m \u001b[0mthe\u001b[0m \u001b[0moutput\u001b[0m \u001b[0mon\u001b[0m \u001b[0mhttp\u001b[0m\u001b[0;34m:\u001b[0m\u001b[0;34m//\u001b[0m\u001b[0mgraphs\u001b[0m\u001b[0;34m.\u001b[0m\u001b[0mgrevian\u001b[0m\u001b[0;34m.\u001b[0m\u001b[0morg\u001b[0m\u001b[0;34m/\u001b[0m\u001b[0mgraph\u001b[0m\u001b[0;34m/\u001b[0m\u001b[0;34m\u001b[0m\u001b[0;34m\u001b[0m\u001b[0m\n\u001b[1;32m      5\u001b[0m '''\n",
      "\u001b[0;32m/opt/anaconda3/envs/GRA2022/lib/python3.9/site-packages/nltk/parse/dependencygraph.py\u001b[0m in \u001b[0;36mto_dot\u001b[0;34m(self)\u001b[0m\n\u001b[1;32m    168\u001b[0m \u001b[0;34m\u001b[0m\u001b[0m\n\u001b[1;32m    169\u001b[0m         \u001b[0;31m# Draw the remaining nodes\u001b[0m\u001b[0;34m\u001b[0m\u001b[0;34m\u001b[0m\u001b[0m\n\u001b[0;32m--> 170\u001b[0;31m         \u001b[0;32mfor\u001b[0m \u001b[0mnode\u001b[0m \u001b[0;32min\u001b[0m \u001b[0msorted\u001b[0m\u001b[0;34m(\u001b[0m\u001b[0mself\u001b[0m\u001b[0;34m.\u001b[0m\u001b[0mnodes\u001b[0m\u001b[0;34m.\u001b[0m\u001b[0mvalues\u001b[0m\u001b[0;34m(\u001b[0m\u001b[0;34m)\u001b[0m\u001b[0;34m,\u001b[0m \u001b[0mkey\u001b[0m\u001b[0;34m=\u001b[0m\u001b[0;32mlambda\u001b[0m \u001b[0mv\u001b[0m\u001b[0;34m:\u001b[0m \u001b[0mv\u001b[0m\u001b[0;34m[\u001b[0m\u001b[0;34m\"address\"\u001b[0m\u001b[0;34m]\u001b[0m\u001b[0;34m)\u001b[0m\u001b[0;34m:\u001b[0m\u001b[0;34m\u001b[0m\u001b[0;34m\u001b[0m\u001b[0m\n\u001b[0m\u001b[1;32m    171\u001b[0m             s += '\\n{} [label=\"{} ({})\"]'.format(\n\u001b[1;32m    172\u001b[0m                 \u001b[0mnode\u001b[0m\u001b[0;34m[\u001b[0m\u001b[0;34m\"address\"\u001b[0m\u001b[0;34m]\u001b[0m\u001b[0;34m,\u001b[0m\u001b[0;34m\u001b[0m\u001b[0;34m\u001b[0m\u001b[0m\n",
      "\u001b[0;31mTypeError\u001b[0m: '<' not supported between instances of 'NoneType' and 'int'"
     ]
    }
   ],
   "source": [
    "from graphviz import Source\n",
    "dot_def = dependency.to_dot()\n",
    "'''\n",
    "The below lines require graphviz executables to be installed to your system. If that does not work, print the dot_def object and paste the output on http://graphs.grevian.org/graph/\n",
    "'''\n",
    "print(dot_def)\n",
    "# source = Source(dot_def, filename=\"dependency_graph\", format=\"png\")\n",
    "# source.view()"
   ]
  },
  {
   "cell_type": "code",
   "execution_count": null,
   "id": "ed7a7e0e",
   "metadata": {},
   "outputs": [],
   "source": []
  }
 ],
 "metadata": {
  "kernelspec": {
   "display_name": "Python 3 (ipykernel)",
   "language": "python",
   "name": "python3"
  },
  "language_info": {
   "codemirror_mode": {
    "name": "ipython",
    "version": 3
   },
   "file_extension": ".py",
   "mimetype": "text/x-python",
   "name": "python",
   "nbconvert_exporter": "python",
   "pygments_lexer": "ipython3",
   "version": "3.9.7"
  }
 },
 "nbformat": 4,
 "nbformat_minor": 5
}
